{
 "cells": [
  {
   "cell_type": "markdown",
   "metadata": {},
   "source": [
    "# Flask\n",
    "\n",
    "- Flask is a micro web framework written in Python.\n",
    "- It is classified as a microframework because it does not require particular tools or libraries.\n",
    "- It has no database abstraction layer, form validation, or any other components where pre-existing third-party libraries provide common functions.\n",
    "- However, Flask supports extensions that can add application features as if they were implemented in Flask itself.\n",
    "- Applications that use the Flask framework include Pinterest, LinkedIn, and the community web page for Flask itself."
   ]
  },
  {
   "cell_type": "markdown",
   "metadata": {},
   "source": [
    "# Flask vs Django\n",
    "\n",
    "- Django is a high-level Python Web framework that encourages rapid development and clean, pragmatic design.\n",
    "- Flask is more Pythonic than Django because Flask web application code is in most cases more explicit.\n",
    "- Flask is easier to get started with as a beginner because there is little boilerplate code for getting a simple app up and running.\n",
    "- Django is more feature-packed than Flask. Django includes an ORM, form handling, an admin panel, and other features.\n",
    "- Flask is more lightweight than Django. Flask is easy to get started with as a beginner because there is little boilerplate code for getting a simple app up and running."
   ]
  },
  {
   "cell_type": "markdown",
   "metadata": {},
   "source": [
    "## Installation"
   ]
  },
  {
   "cell_type": "code",
   "execution_count": null,
   "metadata": {},
   "outputs": [],
   "source": [
    "!pip install Flask"
   ]
  },
  {
   "cell_type": "markdown",
   "metadata": {},
   "source": [
    "## A minimal Application"
   ]
  },
  {
   "cell_type": "code",
   "execution_count": null,
   "metadata": {},
   "outputs": [],
   "source": [
    "from flask import Flask\n",
    "\n",
    "app = Flask(__name__)\n",
    "\n",
    "@app.route('/')\n",
    "def hello_world():\n",
    "    return 'Hello, World!'"
   ]
  },
  {
   "cell_type": "markdown",
   "metadata": {},
   "source": [
    "### Explanation\n",
    "\n",
    "- The `@app.route('/')` is a Python decorator that Flask provides to assign URLs in our app to functions easily.\n",
    "- The function `hello_world` is a view function that returns the string \"Hello, World!\".\n",
    "- The `if __name__ == '__main__':` block makes sure the server only runs if the script is executed directly.\n",
    "- The `app.run()` method runs the Flask application on the local development server.\n",
    "- The `app.run()` method takes a host and port number and is used to run the Flask application on the local development server."
   ]
  },
  {
   "cell_type": "markdown",
   "metadata": {},
   "source": [
    "## How to run the application\n",
    "\n",
    "- Save the code in a file named `app.py`.\n",
    "- Run the command `python app.py` in the terminal.\n",
    "- Open the browser and go to the URL `http://127.0.0.1:5000/`.\n",
    "- You should see the text \"Hello, World!\" displayed on the page.\n",
    "- To stop the server, press `Ctrl + C` in the terminal."
   ]
  },
  {
   "cell_type": "markdown",
   "metadata": {},
   "source": [
    "## Alternatively using app.run()\n",
    "\n",
    "- You can also run the application by calling the `run()` method on the Flask object."
   ]
  },
  {
   "cell_type": "code",
   "execution_count": null,
   "metadata": {},
   "outputs": [],
   "source": [
    "from flask import Flask\n",
    "\n",
    "app = Flask(__name__)\n",
    "\n",
    "@app.route('/')\n",
    "def hello_world():\n",
    "  return 'Hello, World!'\n",
    "\n",
    "if __name__ == '__main__':\n",
    "  app.run(host='0.0.0.0', debug=True)"
   ]
  },
  {
   "cell_type": "markdown",
   "metadata": {},
   "source": [
    "`app.run()` has arguments that can be passed to it:\n",
    "\n",
    "- `host`: The hostname to listen on. Set this to\n",
    "- `port`: The port of the web server.\n",
    "- `debug`: If set to True, the server will automatically reload when code changes. The server will also provide a useful debugger in the browser."
   ]
  }
 ],
 "metadata": {
  "kernelspec": {
   "display_name": "Python 3",
   "language": "python",
   "name": "python3"
  },
  "language_info": {
   "codemirror_mode": {
    "name": "ipython",
    "version": 3
   },
   "file_extension": ".py",
   "mimetype": "text/x-python",
   "name": "python",
   "nbconvert_exporter": "python",
   "pygments_lexer": "ipython3",
   "version": "3.12.2"
  }
 },
 "nbformat": 4,
 "nbformat_minor": 2
}
