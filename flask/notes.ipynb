{
 "cells": [
  {
   "cell_type": "markdown",
   "metadata": {},
   "source": [
    "# Flask\n",
    "\n",
    "- Flask is a micro web framework written in Python.\n",
    "- It is classified as a microframework because it does not require particular tools or libraries.\n",
    "- It has no database abstraction layer, form validation, or any other components where pre-existing third-party libraries provide common functions.\n",
    "- However, Flask supports extensions that can add application features as if they were implemented in Flask itself.\n",
    "- Applications that use the Flask framework include Pinterest, LinkedIn, and the community web page for Flask itself."
   ]
  },
  {
   "cell_type": "markdown",
   "metadata": {},
   "source": [
    "# Flask vs Django\n",
    "\n",
    "- Django is a high-level Python Web framework that encourages rapid development and clean, pragmatic design.\n",
    "- Flask is more Pythonic than Django because Flask web application code is in most cases more explicit.\n",
    "- Flask is easier to get started with as a beginner because there is little boilerplate code for getting a simple app up and running.\n",
    "- Django is more feature-packed than Flask. Django includes an ORM, form handling, an admin panel, and other features.\n",
    "- Flask is more lightweight than Django. Flask is easy to get started with as a beginner because there is little boilerplate code for getting a simple app up and running."
   ]
  },
  {
   "cell_type": "markdown",
   "metadata": {},
   "source": [
    "## Installation"
   ]
  },
  {
   "cell_type": "code",
   "execution_count": null,
   "metadata": {},
   "outputs": [],
   "source": [
    "!pip install Flask"
   ]
  },
  {
   "cell_type": "markdown",
   "metadata": {},
   "source": [
    "## A minimal Application"
   ]
  },
  {
   "cell_type": "code",
   "execution_count": null,
   "metadata": {},
   "outputs": [],
   "source": [
    "from flask import Flask\n",
    "\n",
    "app = Flask(__name__)\n",
    "\n",
    "@app.route('/')\n",
    "def hello_world():\n",
    "    return 'Hello, World!'"
   ]
  },
  {
   "cell_type": "markdown",
   "metadata": {},
   "source": [
    "### Explanation\n",
    "\n",
    "- The `@app.route('/')` is a Python decorator that Flask provides to assign URLs in our app to functions easily.\n",
    "- The function `hello_world` is a view function that returns the string \"Hello, World!\".\n",
    "- The `if __name__ == '__main__':` block makes sure the server only runs if the script is executed directly.\n",
    "- The `app.run()` method runs the Flask application on the local development server.\n",
    "- The `app.run()` method takes a host and port number and is used to run the Flask application on the local development server."
   ]
  },
  {
   "cell_type": "markdown",
   "metadata": {},
   "source": [
    "## How to run the application\n",
    "\n",
    "- Save the code in a file named `app.py`.\n",
    "- Run the command `python app.py` in the terminal.\n",
    "- Open the browser and go to the URL `http://127.0.0.1:5000/`.\n",
    "- You should see the text \"Hello, World!\" displayed on the page.\n",
    "- To stop the server, press `Ctrl + C` in the terminal."
   ]
  },
  {
   "cell_type": "markdown",
   "metadata": {},
   "source": [
    "## Alternatively using app.run()\n",
    "\n",
    "- You can also run the application by calling the `run()` method on the Flask object."
   ]
  },
  {
   "cell_type": "code",
   "execution_count": null,
   "metadata": {},
   "outputs": [],
   "source": [
    "from flask import Flask\n",
    "\n",
    "app = Flask(__name__)\n",
    "\n",
    "@app.route('/')\n",
    "def hello_world():\n",
    "  return 'Hello, World!'\n",
    "\n",
    "if __name__ == '__main__':\n",
    "  app.run(host='0.0.0.0', debug=True)"
   ]
  },
  {
   "cell_type": "markdown",
   "metadata": {},
   "source": [
    "`app.run()` has arguments that can be passed to it:\n",
    "\n",
    "- `host`: The hostname to listen on. Set this to\n",
    "- `port`: The port of the web server.\n",
    "- `debug`: If set to True, the server will automatically reload when code changes. The server will also provide a useful debugger in the browser."
   ]
  },
  {
   "cell_type": "markdown",
   "metadata": {},
   "source": [
    "## templates directory\n",
    "\n",
    "- The `templates` directory is a directory where Flask will look for HTML templates.\n",
    "- Flask will look for templates in the `templates` directory by default.\n",
    "- You can change the default directory by passing the `template_folder` argument to the `Flask` constructor like this: `app = Flask(__name__, template_folder='some_folder')`."
   ]
  },
  {
   "cell_type": "markdown",
   "metadata": {},
   "source": [
    "### `render_template` function\n",
    "\n",
    "- The `render_template` function is used to render HTML templates in Flask.\n",
    "- The `render_template` function takes the name of the template as an argument.\n",
    "- The `render_template` function looks for the template in the `templates` directory by default."
   ]
  },
  {
   "cell_type": "code",
   "execution_count": null,
   "metadata": {},
   "outputs": [],
   "source": [
    "from flask import Flask, render_template\n",
    "\n",
    "app = Flask(__name__)\n",
    "\n",
    "\n",
    "@app.route('/')\n",
    "def hello_world():\n",
    "    return render_template('home.html')\n",
    "\n",
    "if __name__ == \"__main__\":\n",
    "    app.run(host='0.0.0.0', debug=True)"
   ]
  },
  {
   "cell_type": "markdown",
   "metadata": {},
   "source": [
    "### `static` directory\n",
    "\n",
    "- The `static` directory is a directory where Flask will look for static files like CSS, JavaScript, and images.\n",
    "- Flask will look for static files in the `static` directory by default."
   ]
  },
  {
   "cell_type": "markdown",
   "metadata": {},
   "source": [
    "### Passing dynamic data to templates\n",
    "\n",
    "- You can pass dynamic data to templates by passing arguments to the `render_template` function.\n",
    "- The arguments are passed as key-value pairs where the key is the name of the variable in the template and the value is the value of the variable.\n",
    "- In the template, you can access the value of the variable using the `{{ variable_name }}` syntax."
   ]
  },
  {
   "cell_type": "markdown",
   "metadata": {},
   "source": []
  }
 ],
 "metadata": {
  "kernelspec": {
   "display_name": "Python 3",
   "language": "python",
   "name": "python3"
  },
  "language_info": {
   "codemirror_mode": {
    "name": "ipython",
    "version": 3
   },
   "file_extension": ".py",
   "mimetype": "text/x-python",
   "name": "python",
   "nbconvert_exporter": "python",
   "pygments_lexer": "ipython3",
   "version": "3.12.2"
  }
 },
 "nbformat": 4,
 "nbformat_minor": 2
}
